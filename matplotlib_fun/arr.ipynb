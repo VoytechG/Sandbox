{
 "nbformat": 4,
 "nbformat_minor": 2,
 "metadata": {
  "language_info": {
   "name": "python",
   "codemirror_mode": {
    "name": "ipython",
    "version": 3
   },
   "version": "3.7.3-final"
  },
  "orig_nbformat": 2,
  "file_extension": ".py",
  "mimetype": "text/x-python",
  "name": "python",
  "npconvert_exporter": "python",
  "pygments_lexer": "ipython3",
  "version": 3,
  "kernelspec": {
   "name": "python37364bitbasecondae3c7de4f5c684564b342e2c3914a252a",
   "display_name": "Python 3.7.3 64-bit ('base': conda)"
  }
 },
 "cells": [
  {
   "cell_type": "code",
   "execution_count": 3,
   "metadata": {},
   "outputs": [
    {
     "name": "stdout",
     "output_type": "stream",
     "text": "[1. 1. 1.] [2. 2. 2.] [3. 3. 3.]\n[[1. 1. 1.]\n [2. 2. 2.]\n [3. 3. 3.]]\n"
    }
   ],
   "source": [
    "import numpy as np\n",
    "a = np.array([(i+1)*np.ones(3) for i in range(3)])\n",
    "x,y,z = a\n",
    "print(x,y,z)\n",
    "print(a)\n"
   ]
  },
  {
   "cell_type": "code",
   "execution_count": 7,
   "metadata": {},
   "outputs": [
    {
     "data": {
      "text/plain": "array([[1., 1., 1.],\n       [2., 2., 2.],\n       [3., 3., 3.]])"
     },
     "execution_count": 7,
     "metadata": {},
     "output_type": "execute_result"
    }
   ],
   "source": [
    "a"
   ]
  },
  {
   "cell_type": "code",
   "execution_count": 18,
   "metadata": {},
   "outputs": [
    {
     "data": {
      "text/plain": "array([[0.17652864, 0.36073239, 0.1439719 ],\n       [0.09419533, 0.22795739, 0.99399358],\n       [0.0563945 , 0.90493094, 0.96556797],\n       [0.65662998, 0.05488946, 0.12410743]])"
     },
     "execution_count": 18,
     "metadata": {},
     "output_type": "execute_result"
    }
   ],
   "source": [
    "np.random.rand(4,3)"
   ]
  },
  {
   "source": [
    "x,y,z = np.random.rand(3,10)\n",
    "x"
   ],
   "cell_type": "code",
   "outputs": [
    {
     "output_type": "execute_result",
     "data": {
      "text/plain": "array([0.8465425 , 0.15291922, 0.78385684, 0.88414628, 0.30473319,\n       0.4893171 , 0.05008762, 0.71408697, 0.75242352, 0.00916065])"
     },
     "metadata": {},
     "execution_count": 22
    }
   ],
   "metadata": {},
   "execution_count": 22
  },
  {
   "cell_type": "code",
   "execution_count": null,
   "metadata": {},
   "outputs": [],
   "source": []
  }
 ]
}